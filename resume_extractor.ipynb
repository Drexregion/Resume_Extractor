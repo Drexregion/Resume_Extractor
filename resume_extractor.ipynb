{
 "cells": [
  {
   "cell_type": "code",
   "execution_count": 96,
   "id": "dd95b2e2",
   "metadata": {},
   "outputs": [],
   "source": [
    "import spacy #nlp\n",
    "import pdfminer\n",
    "import re\n",
    "import os\n",
    "import pandas as pd"
   ]
  },
  {
   "cell_type": "code",
   "execution_count": 97,
   "id": "f9b9187f",
   "metadata": {},
   "outputs": [],
   "source": [
    "import pdf2txt"
   ]
  },
  {
   "cell_type": "code",
   "execution_count": 98,
   "id": "27e3b745",
   "metadata": {},
   "outputs": [],
   "source": [
    "# converting pdf to text"
   ]
  },
  {
   "cell_type": "code",
   "execution_count": 99,
   "id": "005bd81a",
   "metadata": {},
   "outputs": [],
   "source": [
    "def convert_pdf(f):\n",
    "    output_name = os.path.basename(os.path.splitext(f)[0]) + '.txt'\n",
    "    output_filepath = os.path.join(\"output/text/\",output_name)\n",
    "    pdf2txt.main(args=[f,\"--outfile\",output_filepath])#saves in the given location\n",
    "    print(f\"{output_filepath} saved successfully !!!\")\n",
    "    return open(output_filepath, encoding=\"utf8\").read()"
   ]
  },
  {
   "cell_type": "code",
   "execution_count": 100,
   "id": "8154278e",
   "metadata": {},
   "outputs": [],
   "source": [
    "# loading the language model"
   ]
  },
  {
   "cell_type": "code",
   "execution_count": 101,
   "id": "74a8b6f7",
   "metadata": {},
   "outputs": [],
   "source": [
    "nlp = spacy.load('en_core_web_sm')"
   ]
  },
  {
   "cell_type": "code",
   "execution_count": 102,
   "id": "b97379e3",
   "metadata": {},
   "outputs": [],
   "source": [
    "# ----------place holders--------------\n",
    "result_dict = {\"name\":[],\"phone\":[],\"email\": [],'skill':[]}\n",
    "names = []\n",
    "phones = []\n",
    "emails = []\n",
    "skills = []"
   ]
  },
  {
   "cell_type": "code",
   "execution_count": 103,
   "id": "5f175a4f",
   "metadata": {},
   "outputs": [],
   "source": [
    "#  ----------functionality-------------------\n",
    "def pdf_parser(text):\n",
    "    skill_set = re.compile('python|sql|tableau|java|hadoop')\n",
    "    phone_no = re.compile('\\d{3}[-\\.\\s]??\\d{3}[-\\.\\s]??\\d{4}|\\(\\d{3}\\)\\s*\\d{3}[-\\.\\s]??\\d{4}|\\d{3}[-\\.\\s]??\\d{4}')\n",
    "    doc = nlp(text)\n",
    "    print('STARTING EXTRACTION!!!!!')\n",
    "    name = [entity.text for entity in doc.ents if entity.label_ == 'PERSON'][0]\n",
    "    email = [entity for entity in doc if entity.like_email == True ][0]\n",
    "    phone = re.findall(phone_no , text.lower())\n",
    "    skill = re.findall(skill_set, text.lower())\n",
    "    unique_skill = str(set(skill))\n",
    "    names.append(name)\n",
    "    emails.append(email)\n",
    "    phones.append(phone)\n",
    "    skills.append(unique_skill)\n",
    "    print('EXTRACTION COMPLETE!!!!!!!')"
   ]
  },
  {
   "cell_type": "code",
   "execution_count": 104,
   "id": "e446c87e",
   "metadata": {},
   "outputs": [
    {
     "name": "stdout",
     "output_type": "stream",
     "text": [
      "Reading.......... Alisson ParkerCV.pdf\n",
      "output/text/Alisson ParkerCV.txt saved successfully !!!\n",
      "STARTING EXTRACTION!!!!!\n",
      "EXTRACTION COMPLETE!!!!!!!\n",
      "Reading.......... AshleyMilesCV.pdf\n",
      "output/text/AshleyMilesCV.txt saved successfully !!!\n",
      "STARTING EXTRACTION!!!!!\n",
      "EXTRACTION COMPLETE!!!!!!!\n",
      "Reading.......... CVTEST.pdf\n",
      "output/text/CVTEST.txt saved successfully !!!\n",
      "STARTING EXTRACTION!!!!!\n",
      "EXTRACTION COMPLETE!!!!!!!\n",
      "Reading.......... John DominicCV.pdf\n",
      "output/text/John DominicCV.txt saved successfully !!!\n",
      "STARTING EXTRACTION!!!!!\n",
      "EXTRACTION COMPLETE!!!!!!!\n"
     ]
    }
   ],
   "source": [
    "for file in os.listdir('resumes/'):\n",
    "    if file.endswith('.pdf'):\n",
    "        print('Reading..........' , file)\n",
    "        txt = convert_pdf(os.path.join('resumes/',file))\n",
    "        pdf_parser(txt)"
   ]
  },
  {
   "cell_type": "code",
   "execution_count": 106,
   "id": "53555c70",
   "metadata": {},
   "outputs": [],
   "source": [
    "result_dict['name'] = names\n",
    "result_dict['phone'] = phones\n",
    "result_dict['email']= emails\n",
    "result_dict['skill'] = skills"
   ]
  },
  {
   "cell_type": "code",
   "execution_count": 108,
   "id": "a74272f1",
   "metadata": {},
   "outputs": [],
   "source": [
    "result_dataframe = pd.DataFrame(result_dict)"
   ]
  },
  {
   "cell_type": "code",
   "execution_count": 110,
   "id": "d0489f2e",
   "metadata": {},
   "outputs": [],
   "source": [
    "result_dataframe.to_csv('output\\csv\\parsed_resumes.csv')"
   ]
  },
  {
   "cell_type": "code",
   "execution_count": null,
   "id": "5ba97add",
   "metadata": {},
   "outputs": [],
   "source": []
  }
 ],
 "metadata": {
  "kernelspec": {
   "display_name": "Python 3 (ipykernel)",
   "language": "python",
   "name": "python3"
  },
  "language_info": {
   "codemirror_mode": {
    "name": "ipython",
    "version": 3
   },
   "file_extension": ".py",
   "mimetype": "text/x-python",
   "name": "python",
   "nbconvert_exporter": "python",
   "pygments_lexer": "ipython3",
   "version": "3.10.6"
  }
 },
 "nbformat": 4,
 "nbformat_minor": 5
}
